{
 "cells": [
  {
   "cell_type": "markdown",
   "metadata": {},
   "source": [
    "## Compute cancer-type-specific differential expression scores for each gene\n",
    "\n",
    "Compares tumor to normal tissue in the same patient."
   ]
  },
  {
   "cell_type": "code",
   "execution_count": 1,
   "metadata": {
    "collapsed": true
   },
   "outputs": [],
   "source": [
    "import os\n",
    "\n",
    "import pandas\n",
    "import numpy\n",
    "from scipy.stats import ttest_1samp"
   ]
  },
  {
   "cell_type": "code",
   "execution_count": 2,
   "metadata": {
    "collapsed": false
   },
   "outputs": [],
   "source": [
    "path = os.path.join('data', 'complete', 'expression-matrix.tsv.bz2')\n",
    "expr_df = pandas.read_table(path, index_col=0)"
   ]
  },
  {
   "cell_type": "code",
   "execution_count": 3,
   "metadata": {
    "collapsed": false
   },
   "outputs": [
    {
     "data": {
      "text/html": [
       "<div>\n",
       "<table border=\"1\" class=\"dataframe\">\n",
       "  <thead>\n",
       "    <tr style=\"text-align: right;\">\n",
       "      <th></th>\n",
       "      <th>sample_id</th>\n",
       "      <th>patient_id</th>\n",
       "      <th>sample_type</th>\n",
       "      <th>disease</th>\n",
       "      <th>acronym</th>\n",
       "      <th>organ_of_origin</th>\n",
       "      <th>gender</th>\n",
       "      <th>age_diagnosed</th>\n",
       "      <th>dead</th>\n",
       "      <th>days_survived</th>\n",
       "      <th>recurred</th>\n",
       "      <th>days_recurrence_free</th>\n",
       "    </tr>\n",
       "  </thead>\n",
       "  <tbody>\n",
       "    <tr>\n",
       "      <th>35</th>\n",
       "      <td>TCGA-02-0047-01</td>\n",
       "      <td>TCGA-02-0047</td>\n",
       "      <td>Primary Tumor</td>\n",
       "      <td>glioblastoma multiforme</td>\n",
       "      <td>GBM</td>\n",
       "      <td>Brain</td>\n",
       "      <td>Male</td>\n",
       "      <td>78.0</td>\n",
       "      <td>1.0</td>\n",
       "      <td>448.0</td>\n",
       "      <td>NaN</td>\n",
       "      <td>NaN</td>\n",
       "    </tr>\n",
       "    <tr>\n",
       "      <th>40</th>\n",
       "      <td>TCGA-02-0055-01</td>\n",
       "      <td>TCGA-02-0055</td>\n",
       "      <td>Primary Tumor</td>\n",
       "      <td>glioblastoma multiforme</td>\n",
       "      <td>GBM</td>\n",
       "      <td>Brain</td>\n",
       "      <td>Female</td>\n",
       "      <td>62.0</td>\n",
       "      <td>1.0</td>\n",
       "      <td>76.0</td>\n",
       "      <td>NaN</td>\n",
       "      <td>NaN</td>\n",
       "    </tr>\n",
       "  </tbody>\n",
       "</table>\n",
       "</div>"
      ],
      "text/plain": [
       "          sample_id    patient_id    sample_type                  disease  \\\n",
       "35  TCGA-02-0047-01  TCGA-02-0047  Primary Tumor  glioblastoma multiforme   \n",
       "40  TCGA-02-0055-01  TCGA-02-0055  Primary Tumor  glioblastoma multiforme   \n",
       "\n",
       "   acronym organ_of_origin  gender  age_diagnosed  dead  days_survived  \\\n",
       "35     GBM           Brain    Male           78.0   1.0          448.0   \n",
       "40     GBM           Brain  Female           62.0   1.0           76.0   \n",
       "\n",
       "    recurred  days_recurrence_free  \n",
       "35       NaN                   NaN  \n",
       "40       NaN                   NaN  "
      ]
     },
     "execution_count": 3,
     "metadata": {},
     "output_type": "execute_result"
    }
   ],
   "source": [
    "path = os.path.join('data', 'complete', 'samples.tsv')\n",
    "sample_df = (\n",
    "    pandas.read_table(path)\n",
    "    # Filter for samples with expression\n",
    "    .query(\"sample_id in @expr_df.index\")\n",
    ")\n",
    "patient_df = sample_df[['patient_id', 'acronym']].drop_duplicates()\n",
    "sample_df.head(2)"
   ]
  },
  {
   "cell_type": "code",
   "execution_count": 4,
   "metadata": {
    "collapsed": false
   },
   "outputs": [
    {
     "data": {
      "text/html": [
       "<div>\n",
       "<table border=\"1\" class=\"dataframe\">\n",
       "  <thead>\n",
       "    <tr style=\"text-align: right;\">\n",
       "      <th>sample_type</th>\n",
       "      <th>patient_id</th>\n",
       "      <th>Primary Tumor</th>\n",
       "      <th>Solid Tissue Normal</th>\n",
       "      <th>acronym</th>\n",
       "    </tr>\n",
       "  </thead>\n",
       "  <tbody>\n",
       "    <tr>\n",
       "      <th>0</th>\n",
       "      <td>TCGA-22-4593</td>\n",
       "      <td>TCGA-22-4593-01</td>\n",
       "      <td>TCGA-22-4593-11</td>\n",
       "      <td>LUSC</td>\n",
       "    </tr>\n",
       "    <tr>\n",
       "      <th>1</th>\n",
       "      <td>TCGA-22-4609</td>\n",
       "      <td>TCGA-22-4609-01</td>\n",
       "      <td>TCGA-22-4609-11</td>\n",
       "      <td>LUSC</td>\n",
       "    </tr>\n",
       "  </tbody>\n",
       "</table>\n",
       "</div>"
      ],
      "text/plain": [
       "sample_type    patient_id    Primary Tumor Solid Tissue Normal acronym\n",
       "0            TCGA-22-4593  TCGA-22-4593-01     TCGA-22-4593-11    LUSC\n",
       "1            TCGA-22-4609  TCGA-22-4609-01     TCGA-22-4609-11    LUSC"
      ]
     },
     "execution_count": 4,
     "metadata": {},
     "output_type": "execute_result"
    }
   ],
   "source": [
    "type_df = sample_df.pivot('patient_id', 'sample_type', values='sample_id')\n",
    "type_df = type_df[['Primary Tumor', 'Solid Tissue Normal']]\n",
    "# Filter for paired samples\n",
    "type_df = type_df[type_df.isnull().sum(axis='columns') == 0]\n",
    "type_df = type_df.reset_index().merge(patient_df)\n",
    "type_df.head(2)"
   ]
  },
  {
   "cell_type": "code",
   "execution_count": 5,
   "metadata": {
    "collapsed": false
   },
   "outputs": [],
   "source": [
    "def get_diffex(subtype_df):\n",
    "    \"\"\"\n",
    "    For each gene, compute differential expression between paired tumor and normal tissue.\n",
    "    \"\"\"\n",
    "    tumor_df = expr_df.loc[list(subtype_df['Primary Tumor']), :]\n",
    "    normal_df = expr_df.loc[list(subtype_df['Solid Tissue Normal']), :]\n",
    "    for df in tumor_df, normal_df:\n",
    "        df.index = subtype_df.index\n",
    "    \n",
    "    diffex_df = tumor_df - normal_df\n",
    "    ttest = ttest_1samp(diffex_df, popmean=0, axis=0)\n",
    "\n",
    "    df = pandas.DataFrame.from_items([\n",
    "        ('entrez_gene_id', diffex_df.columns),\n",
    "        ('patients', len(diffex_df)),\n",
    "        ('tumor_mean', tumor_df.mean()),\n",
    "        ('normal_mean', normal_df.mean()),\n",
    "        ('mean_diff', diffex_df.mean()),\n",
    "        ('t_stat', ttest.statistic),\n",
    "        ('mlog10_p_value', -numpy.log10(ttest.pvalue)),\n",
    "    ])\n",
    "    return df\n",
    "\n",
    "diffex_df = (type_df\n",
    "    .groupby('acronym')\n",
    "    .apply(get_diffex)\n",
    "    .reset_index('acronym')\n",
    "    .query(\"patients >= 5\")\n",
    ")\n",
    "\n",
    "diffex_df.entrez_gene_id = diffex_df.entrez_gene_id.astype(int)"
   ]
  },
  {
   "cell_type": "code",
   "execution_count": 6,
   "metadata": {
    "collapsed": false
   },
   "outputs": [
    {
     "data": {
      "text/plain": [
       "22973"
      ]
     },
     "execution_count": 6,
     "metadata": {},
     "output_type": "execute_result"
    }
   ],
   "source": [
    "# Add gene symbols\n",
    "path = os.path.join('data', 'genes.tsv')\n",
    "gene_df = pandas.read_table(path, low_memory=False)\n",
    "gene_df = gene_df[['entrez_gene_id', 'symbol']]\n",
    "len(gene_df)"
   ]
  },
  {
   "cell_type": "code",
   "execution_count": 7,
   "metadata": {
    "collapsed": false
   },
   "outputs": [
    {
     "data": {
      "text/html": [
       "<div>\n",
       "<table border=\"1\" class=\"dataframe\">\n",
       "  <thead>\n",
       "    <tr style=\"text-align: right;\">\n",
       "      <th></th>\n",
       "      <th>acronym</th>\n",
       "      <th>entrez_gene_id</th>\n",
       "      <th>patients</th>\n",
       "      <th>tumor_mean</th>\n",
       "      <th>normal_mean</th>\n",
       "      <th>mean_diff</th>\n",
       "      <th>t_stat</th>\n",
       "      <th>mlog10_p_value</th>\n",
       "      <th>symbol</th>\n",
       "    </tr>\n",
       "  </thead>\n",
       "  <tbody>\n",
       "    <tr>\n",
       "      <th>349005</th>\n",
       "      <td>UCEC</td>\n",
       "      <td>100302650</td>\n",
       "      <td>7</td>\n",
       "      <td>5.074286</td>\n",
       "      <td>7.092857</td>\n",
       "      <td>-2.018571</td>\n",
       "      <td>-2.274552</td>\n",
       "      <td>1.198795</td>\n",
       "      <td>BRE-AS1</td>\n",
       "    </tr>\n",
       "    <tr>\n",
       "      <th>349006</th>\n",
       "      <td>UCEC</td>\n",
       "      <td>100302692</td>\n",
       "      <td>7</td>\n",
       "      <td>4.851429</td>\n",
       "      <td>5.692857</td>\n",
       "      <td>-0.841429</td>\n",
       "      <td>-4.255176</td>\n",
       "      <td>2.271682</td>\n",
       "      <td>FTX</td>\n",
       "    </tr>\n",
       "    <tr>\n",
       "      <th>349007</th>\n",
       "      <td>UCEC</td>\n",
       "      <td>100302736</td>\n",
       "      <td>7</td>\n",
       "      <td>5.938571</td>\n",
       "      <td>4.085714</td>\n",
       "      <td>1.852857</td>\n",
       "      <td>1.822876</td>\n",
       "      <td>0.927571</td>\n",
       "      <td>TMED7-TICAM2</td>\n",
       "    </tr>\n",
       "    <tr>\n",
       "      <th>349008</th>\n",
       "      <td>UCEC</td>\n",
       "      <td>100303453</td>\n",
       "      <td>7</td>\n",
       "      <td>1.212714</td>\n",
       "      <td>0.244286</td>\n",
       "      <td>0.968429</td>\n",
       "      <td>2.620374</td>\n",
       "      <td>1.402673</td>\n",
       "      <td>TSNAX-DISC1</td>\n",
       "    </tr>\n",
       "    <tr>\n",
       "      <th>349009</th>\n",
       "      <td>UCEC</td>\n",
       "      <td>100303728</td>\n",
       "      <td>7</td>\n",
       "      <td>4.388571</td>\n",
       "      <td>4.735714</td>\n",
       "      <td>-0.347143</td>\n",
       "      <td>-1.196275</td>\n",
       "      <td>0.557971</td>\n",
       "      <td>SLC25A5-AS1</td>\n",
       "    </tr>\n",
       "  </tbody>\n",
       "</table>\n",
       "</div>"
      ],
      "text/plain": [
       "       acronym  entrez_gene_id  patients  tumor_mean  normal_mean  mean_diff  \\\n",
       "349005    UCEC       100302650         7    5.074286     7.092857  -2.018571   \n",
       "349006    UCEC       100302692         7    4.851429     5.692857  -0.841429   \n",
       "349007    UCEC       100302736         7    5.938571     4.085714   1.852857   \n",
       "349008    UCEC       100303453         7    1.212714     0.244286   0.968429   \n",
       "349009    UCEC       100303728         7    4.388571     4.735714  -0.347143   \n",
       "\n",
       "          t_stat  mlog10_p_value        symbol  \n",
       "349005 -2.274552        1.198795       BRE-AS1  \n",
       "349006 -4.255176        2.271682           FTX  \n",
       "349007  1.822876        0.927571  TMED7-TICAM2  \n",
       "349008  2.620374        1.402673   TSNAX-DISC1  \n",
       "349009 -1.196275        0.557971   SLC25A5-AS1  "
      ]
     },
     "execution_count": 7,
     "metadata": {},
     "output_type": "execute_result"
    }
   ],
   "source": [
    "diffex_df = diffex_df.merge(gene_df, how='left')\n",
    "diffex_df.tail()"
   ]
  },
  {
   "cell_type": "code",
   "execution_count": 8,
   "metadata": {
    "collapsed": false
   },
   "outputs": [],
   "source": [
    "path = os.path.join('data', 'complete', 'differential-expression.tsv.bz2')\n",
    "diffex_df.to_csv(path, sep='\\t', index=False, compression='bz2', float_format='%.4g')"
   ]
  }
 ],
 "metadata": {
  "kernelspec": {
   "display_name": "Python [default]",
   "language": "python",
   "name": "python3"
  },
  "language_info": {
   "codemirror_mode": {
    "name": "ipython",
    "version": 3
   },
   "file_extension": ".py",
   "mimetype": "text/x-python",
   "name": "python",
   "nbconvert_exporter": "python",
   "pygments_lexer": "ipython3",
   "version": "3.5.2"
  }
 },
 "nbformat": 4,
 "nbformat_minor": 1
}
