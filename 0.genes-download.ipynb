{
 "cells": [
  {
   "cell_type": "markdown",
   "metadata": {},
   "source": [
    "# Download Cognoma genes"
   ]
  },
  {
   "cell_type": "code",
   "execution_count": 1,
   "metadata": {
    "collapsed": false
   },
   "outputs": [],
   "source": [
    "import os\n",
    "from urllib.request import urlretrieve"
   ]
  },
  {
   "cell_type": "code",
   "execution_count": 2,
   "metadata": {
    "collapsed": false
   },
   "outputs": [],
   "source": [
    "repo = 'cognoma/genes'\n",
    "commit = '721204091a96e55de6dcad165d6d8265e67e2a48'\n",
    "base_url = 'https://github.com/{repo}/raw/{commit}/data/'.format(repo=repo, commit=commit)"
   ]
  },
  {
   "cell_type": "code",
   "execution_count": 3,
   "metadata": {
    "collapsed": false
   },
   "outputs": [],
   "source": [
    "filenames = [\n",
    "    'genes.tsv',\n",
    "    'updater.tsv',\n",
    "    'chromosome-symbol-mapper.tsv',\n",
    "]\n",
    "\n",
    "gene_dir = os.path.join('download', 'genes')\n",
    "\n",
    "if not os.path.isdir(gene_dir):\n",
    "    os.makedirs(gene_dir, exist_ok=True)\n",
    "    \n",
    "for name in filenames:\n",
    "    url = base_url + name\n",
    "    path = os.path.join(gene_dir, name)\n",
    "    urlretrieve(url, path)"
   ]
  }
 ],
 "metadata": {
  "anaconda-cloud": {},
  "kernelspec": {
   "display_name": "Python [conda env:cognoma-cancer-data]",
   "language": "python",
   "name": "conda-env-cognoma-cancer-data-py"
  },
  "language_info": {
   "codemirror_mode": {
    "name": "ipython",
    "version": 3
   },
   "file_extension": ".py",
   "mimetype": "text/x-python",
   "name": "python",
   "nbconvert_exporter": "python",
   "pygments_lexer": "ipython3",
   "version": "3.5.2"
  }
 },
 "nbformat": 4,
 "nbformat_minor": 1
}
