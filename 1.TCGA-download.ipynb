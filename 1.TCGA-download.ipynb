{
 "cells": [
  {
   "cell_type": "markdown",
   "metadata": {},
   "source": [
    "# Download TCGA Pan-Cancer Datasets from the UCSC Xena Browser\n",
    "\n",
    "This notebook downloads TCGA datasets for Project Cognoma. The file contents (text) remains unmodified, but files are given extensions and bzip2 compressed.\n",
    "\n",
    "[See here](https://genome-cancer.soe.ucsc.edu/proj/site/xena/datapages/?cohort=TCGA%20Pan-Cancer%20%28PANCAN%29 \"Xena: cohort: TCGA Pan-Cancer (PANCAN)\") for all TCGA Pan-Cancer datasets on Xena."
   ]
  },
  {
   "cell_type": "code",
   "execution_count": 1,
   "metadata": {
    "collapsed": true
   },
   "outputs": [],
   "source": [
    "import os\n",
    "import bz2\n",
    "from urllib.request import urlretrieve"
   ]
  },
  {
   "cell_type": "code",
   "execution_count": 2,
   "metadata": {
    "collapsed": false
   },
   "outputs": [],
   "source": [
    "def bzip2_compress(path, keep=False):\n",
    "    \"\"\"\n",
    "    Compress a file using bzip2 compression.\n",
    "    Designed to mirror the functionality of the\n",
    "    `bzip2 --compress $PATH` shell command.\n",
    "    `keep` specifies whether to remove the uncompressed file.\n",
    "    \"\"\"\n",
    "    with open(path, 'rb') as reader, bz2.open(path + '.bz2', 'wb') as writer:\n",
    "        writer.writelines(reader)\n",
    "    if not keep:\n",
    "        os.remove(path)"
   ]
  },
  {
   "cell_type": "markdown",
   "metadata": {},
   "source": [
    "Documentation for the TCGA Pan-Cancer files from the Xena browser:\n",
    "\n",
    "+ [`HiSeqV2`](https://genome-cancer.soe.ucsc.edu/proj/site/xena/datapages/?dataset=TCGA.PANCAN.sampleMap/HiSeqV2&host=https://tcga.xenahubs.net)\n",
    "+ [`PANCAN_clinicalMatrix`](https://genome-cancer.soe.ucsc.edu/proj/site/xena/datapages/?dataset=TCGA.PANCAN.sampleMap/PANCAN_clinicalMatrix&host=https://tcga.xenahubs.net)\n",
    "+ [`PANCAN_mutation`](https://genome-cancer.soe.ucsc.edu/proj/site/xena/datapages/?dataset=TCGA.PANCAN.sampleMap/PANCAN_mutation&host=https://tcga.xenahubs.net)"
   ]
  },
  {
   "cell_type": "code",
   "execution_count": 3,
   "metadata": {
    "collapsed": true
   },
   "outputs": [],
   "source": [
    "base_url = 'https://genome-cancer.ucsc.edu/download/public/xena/TCGA/TCGA.PANCAN.sampleMap/'\n",
    "\n",
    "names = [\n",
    "    'PANCAN_clinicalMatrix',\n",
    "    'PANCAN_mutation',\n",
    "    'HiSeqV2',\n",
    "]"
   ]
  },
  {
   "cell_type": "code",
   "execution_count": 4,
   "metadata": {
    "collapsed": false
   },
   "outputs": [],
   "source": [
    "for name in names:\n",
    "    url = base_url + name\n",
    "    path = os.path.join('download', name + '.tsv')\n",
    "    urlretrieve(url, path)\n",
    "    bzip2_compress(path)"
   ]
  }
 ],
 "metadata": {
  "kernelspec": {
   "display_name": "Python 3",
   "language": "python",
   "name": "python3"
  },
  "language_info": {
   "codemirror_mode": {
    "name": "ipython",
    "version": 3
   },
   "file_extension": ".py",
   "mimetype": "text/x-python",
   "name": "python",
   "nbconvert_exporter": "python",
   "pygments_lexer": "ipython3",
   "version": "3.5.2"
  }
 },
 "nbformat": 4,
 "nbformat_minor": 0
}
