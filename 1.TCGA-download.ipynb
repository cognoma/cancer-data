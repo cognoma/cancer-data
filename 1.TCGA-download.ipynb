{
 "cells": [
  {
   "cell_type": "markdown",
   "metadata": {},
   "source": [
    "# Download TCGA PanCanAtlas Datasets from the UCSC Xena Browser\n",
    "\n",
    "This notebook downloads TCGA datasets for Project Cognoma. The file contents (text) remains unmodified, but files are given extensions and bzip2 compressed.\n",
    "\n",
    "[See here](https://xenabrowser.net/datapages/?hub=https://pancanatlas.xenahubs.net:443 \"Xena: cohort: TCGA PanCanAtlas\") for all TCGA PanCanAtlas datasets on Xena."
   ]
  },
  {
   "cell_type": "code",
   "execution_count": 1,
   "metadata": {},
   "outputs": [],
   "source": [
    "import os\n",
    "from urllib.request import urlretrieve"
   ]
  },
  {
   "cell_type": "markdown",
   "metadata": {},
   "source": [
    "Documentation for the TCGA Pan-Cancer files from the Xena browser:\n",
    "\n",
    "+ Gene Expression: [`EB++AdjustPANCAN_IlluminaHiSeq_RNASeqV2.geneExp.xena`](https://xenabrowser.net/datapages/?dataset=EB%2B%2BAdjustPANCAN_IlluminaHiSeq_RNASeqV2.geneExp.xena&host=https%3A%2F%2Fpancanatlas.xenahubs.net)\n",
    "+ Clinical Covariates: [`Survival_SupplementalTable_S1_20171025_xena_sp`](https://xenabrowser.net/datapages/?dataset=Survival_SupplementalTable_S1_20171025_xena_sp&host=https%3A%2F%2Fpancanatlas.xenahubs.net)\n",
    "+ Mutation Data: [`mc3.v0.2.8.PUBLIC.xena.gz`](https://xenabrowser.net/datapages/?dataset=mc3.v0.2.8.PUBLIC.xena&host=https%3A%2F%2Fpancanatlas.xenahubs.net)"
   ]
  },
  {
   "cell_type": "code",
   "execution_count": 2,
   "metadata": {},
   "outputs": [],
   "source": [
    "base_url = 'https://pancanatlas.xenahubs.net/download/'\n",
    "\n",
    "names = [\n",
    "    'Survival_SupplementalTable_S1_20171025_xena_sp',\n",
    "    'mc3.v0.2.8.PUBLIC.xena',\n",
    "    'EB++AdjustPANCAN_IlluminaHiSeq_RNASeqV2.geneExp.xena',\n",
    "]"
   ]
  },
  {
   "cell_type": "code",
   "execution_count": 3,
   "metadata": {},
   "outputs": [],
   "source": [
    "# Download metadata\n",
    "for name in names:\n",
    "    url = base_url + name + '.json'\n",
    "    path = os.path.join('download', name + '.json')\n",
    "    urlretrieve(url, path)"
   ]
  },
  {
   "cell_type": "code",
   "execution_count": 4,
   "metadata": {},
   "outputs": [],
   "source": [
    "# Download data\n",
    "for name in names:\n",
    "    url = base_url + name + '.gz'\n",
    "    path = os.path.join('download', name + '.gz')\n",
    "    urlretrieve(url, path)"
   ]
  }
 ],
 "metadata": {
  "kernelspec": {
   "display_name": "Python [conda env:cognoma-cancer-data]",
   "language": "python",
   "name": "conda-env-cognoma-cancer-data-py"
  },
  "language_info": {
   "codemirror_mode": {
    "name": "ipython",
    "version": 3
   },
   "file_extension": ".py",
   "mimetype": "text/x-python",
   "name": "python",
   "nbconvert_exporter": "python",
   "pygments_lexer": "ipython3",
   "version": "3.5.2"
  }
 },
 "nbformat": 4,
 "nbformat_minor": 1
}
