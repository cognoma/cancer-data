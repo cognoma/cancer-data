{
 "cells": [
  {
   "cell_type": "markdown",
   "metadata": {
    "collapsed": true
   },
   "source": [
    "# Create a symbol to entrez_gene_id mapping for Xena's HiSeqV2\n",
    "\n",
    "Mapping is downloaded from a [post on the Xena Browser Google Group](https://groups.google.com/d/msg/ucsc-cancer-genomics-browser/uMsXgDwkkxg/eofxMaFGBAAJ). This mapping is a temporary solution: if Xena updates their vocabulary or processing pipeline, this mapping may become outdated.\n",
    "\n",
    "For genes without symbols in `HiSeqV2`, the following convention was used by Xena:\n",
    "\n",
    "+ entrez gene id `100130426` becomes symbol `?|100130426`"
   ]
  },
  {
   "cell_type": "code",
   "execution_count": 1,
   "metadata": {
    "collapsed": false
   },
   "outputs": [],
   "source": [
    "import pandas"
   ]
  },
  {
   "cell_type": "code",
   "execution_count": 2,
   "metadata": {
    "collapsed": true
   },
   "outputs": [],
   "source": [
    "url = \"https://groups.google.com/group/ucsc-cancer-genomics-browser/attach/446a131f1877a/unc.edu.f72bfbe6-411d-412e-aaab-1a2414e544ec.2146068.rsem.genes.normalized_results?part=0.1&authuser=0\""
   ]
  },
  {
   "cell_type": "code",
   "execution_count": 3,
   "metadata": {
    "collapsed": false
   },
   "outputs": [
    {
     "data": {
      "text/html": [
       "<div>\n",
       "<table border=\"1\" class=\"dataframe\">\n",
       "  <thead>\n",
       "    <tr style=\"text-align: right;\">\n",
       "      <th></th>\n",
       "      <th>symbol</th>\n",
       "      <th>entrez_gene_id</th>\n",
       "    </tr>\n",
       "  </thead>\n",
       "  <tbody>\n",
       "    <tr>\n",
       "      <th>20527</th>\n",
       "      <td>ZZEF1</td>\n",
       "      <td>23140</td>\n",
       "    </tr>\n",
       "    <tr>\n",
       "      <th>20528</th>\n",
       "      <td>ZZZ3</td>\n",
       "      <td>26009</td>\n",
       "    </tr>\n",
       "    <tr>\n",
       "      <th>20529</th>\n",
       "      <td>psiTPTE22</td>\n",
       "      <td>387590</td>\n",
       "    </tr>\n",
       "    <tr>\n",
       "      <th>20530</th>\n",
       "      <td>tAKR</td>\n",
       "      <td>389932</td>\n",
       "    </tr>\n",
       "  </tbody>\n",
       "</table>\n",
       "</div>"
      ],
      "text/plain": [
       "          symbol entrez_gene_id\n",
       "20527      ZZEF1          23140\n",
       "20528       ZZZ3          26009\n",
       "20529  psiTPTE22         387590\n",
       "20530       tAKR         389932"
      ]
     },
     "execution_count": 3,
     "metadata": {},
     "output_type": "execute_result"
    }
   ],
   "source": [
    "gene_df = pandas.read_table(url)\n",
    "pairs = gene_df.gene_id.str.split('|').tolist()\n",
    "pairs = [('?|' + entrez, entrez) if symbol == '?' else (symbol, entrez) for symbol, entrez in pairs]\n",
    "gene_df = pandas.DataFrame(pairs, columns=['symbol', 'entrez_gene_id'])\n",
    "gene_df.sort_values('symbol', inplace=True)\n",
    "gene_df.tail(4)"
   ]
  },
  {
   "cell_type": "code",
   "execution_count": 4,
   "metadata": {
    "collapsed": false
   },
   "outputs": [],
   "source": [
    "# Check that entrez_gene_ids are all unique \n",
    "assert not gene_df.entrez_gene_id.duplicated().any()"
   ]
  },
  {
   "cell_type": "markdown",
   "metadata": {},
   "source": [
    "### Duplicate symbol _SLC35E2_\n",
    "\n",
    "_SLC35E2_ is the symbol listed for both entrez gene [`9906`](http://www.ncbi.nlm.nih.gov/gene/9906) and [`728661`](http://www.ncbi.nlm.nih.gov/gene/728661). As on 2016-07-23, the symbol for `728661` is _SLC35E2B_. Therefore, we're keeping the `9906` mapping and removing the `728661` mapping."
   ]
  },
  {
   "cell_type": "code",
   "execution_count": 5,
   "metadata": {
    "collapsed": false
   },
   "outputs": [
    {
     "data": {
      "text/html": [
       "<div>\n",
       "<table border=\"1\" class=\"dataframe\">\n",
       "  <thead>\n",
       "    <tr style=\"text-align: right;\">\n",
       "      <th></th>\n",
       "      <th>index</th>\n",
       "      <th>symbol</th>\n",
       "    </tr>\n",
       "  </thead>\n",
       "  <tbody>\n",
       "    <tr>\n",
       "      <th>0</th>\n",
       "      <td>SLC35E2</td>\n",
       "      <td>2</td>\n",
       "    </tr>\n",
       "  </tbody>\n",
       "</table>\n",
       "</div>"
      ],
      "text/plain": [
       "     index  symbol\n",
       "0  SLC35E2       2"
      ]
     },
     "execution_count": 5,
     "metadata": {},
     "output_type": "execute_result"
    }
   ],
   "source": [
    "# Find duplicated symbols\n",
    "count_df = gene_df.symbol.value_counts().reset_index().query(\"symbol > 1\")\n",
    "count_df"
   ]
  },
  {
   "cell_type": "code",
   "execution_count": 6,
   "metadata": {
    "collapsed": false
   },
   "outputs": [
    {
     "data": {
      "text/html": [
       "<div>\n",
       "<table border=\"1\" class=\"dataframe\">\n",
       "  <thead>\n",
       "    <tr style=\"text-align: right;\">\n",
       "      <th></th>\n",
       "      <th>symbol</th>\n",
       "      <th>entrez_gene_id</th>\n",
       "    </tr>\n",
       "  </thead>\n",
       "  <tbody>\n",
       "    <tr>\n",
       "      <th>16300</th>\n",
       "      <td>SLC35E2</td>\n",
       "      <td>728661</td>\n",
       "    </tr>\n",
       "    <tr>\n",
       "      <th>16301</th>\n",
       "      <td>SLC35E2</td>\n",
       "      <td>9906</td>\n",
       "    </tr>\n",
       "  </tbody>\n",
       "</table>\n",
       "</div>"
      ],
      "text/plain": [
       "        symbol entrez_gene_id\n",
       "16300  SLC35E2         728661\n",
       "16301  SLC35E2           9906"
      ]
     },
     "execution_count": 6,
     "metadata": {},
     "output_type": "execute_result"
    }
   ],
   "source": [
    "gene_df.query(\"symbol == 'SLC35E2'\")"
   ]
  },
  {
   "cell_type": "code",
   "execution_count": 7,
   "metadata": {
    "collapsed": false
   },
   "outputs": [
    {
     "data": {
      "text/plain": [
       "20530"
      ]
     },
     "execution_count": 7,
     "metadata": {},
     "output_type": "execute_result"
    }
   ],
   "source": [
    "gene_df = gene_df.query(\"entrez_gene_id != '728661'\")\n",
    "len(gene_df)"
   ]
  },
  {
   "cell_type": "markdown",
   "metadata": {
    "collapsed": true
   },
   "source": [
    "### Check mapping against HiSeqV2 gene symbols"
   ]
  },
  {
   "cell_type": "code",
   "execution_count": 8,
   "metadata": {
    "collapsed": false
   },
   "outputs": [],
   "source": [
    "path = \"../../download/HiSeqV2.tsv.bz2\"\n",
    "expr_df = pandas.read_table(path, index_col=0)"
   ]
  },
  {
   "cell_type": "code",
   "execution_count": 9,
   "metadata": {
    "collapsed": false
   },
   "outputs": [
    {
     "data": {
      "text/plain": [
       "set()"
      ]
     },
     "execution_count": 9,
     "metadata": {},
     "output_type": "execute_result"
    }
   ],
   "source": [
    "# Symbols that are in `HiSeqV2` but not our entrez gene map\n",
    "set(expr_df.index) - set(gene_df.symbol)"
   ]
  },
  {
   "cell_type": "markdown",
   "metadata": {},
   "source": [
    "### Export mapping"
   ]
  },
  {
   "cell_type": "code",
   "execution_count": 10,
   "metadata": {
    "collapsed": true
   },
   "outputs": [],
   "source": [
    "gene_df.to_csv('HiSeqV2-gene-map.tsv', index=False, sep='\\t')"
   ]
  }
 ],
 "metadata": {
  "kernelspec": {
   "display_name": "Python 3",
   "language": "python",
   "name": "python3"
  },
  "language_info": {
   "codemirror_mode": {
    "name": "ipython",
    "version": 3
   },
   "file_extension": ".py",
   "mimetype": "text/x-python",
   "name": "python",
   "nbconvert_exporter": "python",
   "pygments_lexer": "ipython3",
   "version": "3.5.2"
  }
 },
 "nbformat": 4,
 "nbformat_minor": 0
}
