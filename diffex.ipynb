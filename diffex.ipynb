{
 "cells": [
  {
   "cell_type": "markdown",
   "metadata": {},
   "source": [
    "## Genes upregulated in colon cancer"
   ]
  },
  {
   "cell_type": "code",
   "execution_count": 11,
   "metadata": {
    "collapsed": true
   },
   "outputs": [],
   "source": [
    "import os\n",
    "\n",
    "import pandas\n",
    "import numpy\n",
    "from scipy.stats import ttest_1samp"
   ]
  },
  {
   "cell_type": "code",
   "execution_count": 2,
   "metadata": {
    "collapsed": false
   },
   "outputs": [],
   "source": [
    "path = os.path.join('data', 'complete', 'expression-matrix.tsv.bz2')\n",
    "expr_df = pandas.read_table(path, index_col=0)"
   ]
  },
  {
   "cell_type": "code",
   "execution_count": 3,
   "metadata": {
    "collapsed": false
   },
   "outputs": [
    {
     "data": {
      "text/html": [
       "<div>\n",
       "<table border=\"1\" class=\"dataframe\">\n",
       "  <thead>\n",
       "    <tr style=\"text-align: right;\">\n",
       "      <th></th>\n",
       "      <th>sample_id</th>\n",
       "      <th>patient_id</th>\n",
       "      <th>sample_type</th>\n",
       "      <th>disease</th>\n",
       "      <th>acronym</th>\n",
       "      <th>organ_of_origin</th>\n",
       "      <th>gender</th>\n",
       "      <th>age_diagnosed</th>\n",
       "      <th>dead</th>\n",
       "      <th>days_survived</th>\n",
       "      <th>recurred</th>\n",
       "      <th>days_recurrence_free</th>\n",
       "    </tr>\n",
       "  </thead>\n",
       "  <tbody>\n",
       "    <tr>\n",
       "      <th>35</th>\n",
       "      <td>TCGA-02-0047-01</td>\n",
       "      <td>TCGA-02-0047</td>\n",
       "      <td>Primary Tumor</td>\n",
       "      <td>glioblastoma multiforme</td>\n",
       "      <td>GBM</td>\n",
       "      <td>Brain</td>\n",
       "      <td>Male</td>\n",
       "      <td>78.0</td>\n",
       "      <td>1.0</td>\n",
       "      <td>448.0</td>\n",
       "      <td>NaN</td>\n",
       "      <td>NaN</td>\n",
       "    </tr>\n",
       "    <tr>\n",
       "      <th>40</th>\n",
       "      <td>TCGA-02-0055-01</td>\n",
       "      <td>TCGA-02-0055</td>\n",
       "      <td>Primary Tumor</td>\n",
       "      <td>glioblastoma multiforme</td>\n",
       "      <td>GBM</td>\n",
       "      <td>Brain</td>\n",
       "      <td>Female</td>\n",
       "      <td>62.0</td>\n",
       "      <td>1.0</td>\n",
       "      <td>76.0</td>\n",
       "      <td>NaN</td>\n",
       "      <td>NaN</td>\n",
       "    </tr>\n",
       "  </tbody>\n",
       "</table>\n",
       "</div>"
      ],
      "text/plain": [
       "          sample_id    patient_id    sample_type                  disease  \\\n",
       "35  TCGA-02-0047-01  TCGA-02-0047  Primary Tumor  glioblastoma multiforme   \n",
       "40  TCGA-02-0055-01  TCGA-02-0055  Primary Tumor  glioblastoma multiforme   \n",
       "\n",
       "   acronym organ_of_origin  gender  age_diagnosed  dead  days_survived  \\\n",
       "35     GBM           Brain    Male           78.0   1.0          448.0   \n",
       "40     GBM           Brain  Female           62.0   1.0           76.0   \n",
       "\n",
       "    recurred  days_recurrence_free  \n",
       "35       NaN                   NaN  \n",
       "40       NaN                   NaN  "
      ]
     },
     "execution_count": 3,
     "metadata": {},
     "output_type": "execute_result"
    }
   ],
   "source": [
    "path = os.path.join('data', 'complete', 'samples.tsv')\n",
    "sample_df = (\n",
    "    pandas.read_table(path)\n",
    "    # Filter for samples with expression\n",
    "    .query(\"sample_id in @expr_df.index\")\n",
    ")\n",
    "patient_df = sample_df[['patient_id', 'acronym']].drop_duplicates()\n",
    "sample_df.head(2)"
   ]
  },
  {
   "cell_type": "code",
   "execution_count": 4,
   "metadata": {
    "collapsed": false
   },
   "outputs": [
    {
     "data": {
      "text/html": [
       "<div>\n",
       "<table border=\"1\" class=\"dataframe\">\n",
       "  <thead>\n",
       "    <tr style=\"text-align: right;\">\n",
       "      <th>sample_type</th>\n",
       "      <th>patient_id</th>\n",
       "      <th>Primary Tumor</th>\n",
       "      <th>Solid Tissue Normal</th>\n",
       "      <th>acronym</th>\n",
       "    </tr>\n",
       "  </thead>\n",
       "  <tbody>\n",
       "    <tr>\n",
       "      <th>0</th>\n",
       "      <td>TCGA-22-4593</td>\n",
       "      <td>TCGA-22-4593-01</td>\n",
       "      <td>TCGA-22-4593-11</td>\n",
       "      <td>LUSC</td>\n",
       "    </tr>\n",
       "    <tr>\n",
       "      <th>1</th>\n",
       "      <td>TCGA-22-4609</td>\n",
       "      <td>TCGA-22-4609-01</td>\n",
       "      <td>TCGA-22-4609-11</td>\n",
       "      <td>LUSC</td>\n",
       "    </tr>\n",
       "  </tbody>\n",
       "</table>\n",
       "</div>"
      ],
      "text/plain": [
       "sample_type    patient_id    Primary Tumor Solid Tissue Normal acronym\n",
       "0            TCGA-22-4593  TCGA-22-4593-01     TCGA-22-4593-11    LUSC\n",
       "1            TCGA-22-4609  TCGA-22-4609-01     TCGA-22-4609-11    LUSC"
      ]
     },
     "execution_count": 4,
     "metadata": {},
     "output_type": "execute_result"
    }
   ],
   "source": [
    "type_df = sample_df.pivot('patient_id', 'sample_type', values='sample_id')\n",
    "type_df = type_df[['Primary Tumor', 'Solid Tissue Normal']]\n",
    "# Filter for paired samples\n",
    "type_df = type_df[type_df.isnull().sum(axis='columns') == 0]\n",
    "type_df = type_df.reset_index().merge(patient_df)\n",
    "type_df.head(2)"
   ]
  },
  {
   "cell_type": "code",
   "execution_count": 8,
   "metadata": {
    "collapsed": false
   },
   "outputs": [],
   "source": [
    "def get_diffex(subtype_df):\n",
    "    \"\"\"\n",
    "    For each gene, compute differential expression between paired tumor and normal tissue.\n",
    "    \"\"\"\n",
    "    tumor_df = expr_df.loc[list(subtype_df['Primary Tumor']), :]\n",
    "    normal_df = expr_df.loc[list(subtype_df['Solid Tissue Normal']), :]\n",
    "    for df in tumor_df, normal_df:\n",
    "        df.index = subtype_df.index\n",
    "    \n",
    "    diffex_df = tumor_df - normal_df\n",
    "    \n",
    "    ttest = ttest_1samp(diffex_df, 0)\n",
    "\n",
    "    df = pandas.DataFrame.from_items([\n",
    "        ('entrez_gene_id', diffex_df.columns),\n",
    "        ('patients', len(diffex_df)),\n",
    "        ('mean_diff', diffex_df.mean()),\n",
    "        ('t_stat', ttest.statistic),\n",
    "        ('mlog10_p_value', -numpy.log10(ttest.pvalue)),\n",
    "    ])\n",
    "    return df\n",
    "\n",
    "diffex_df = type_df.groupby('acronym').apply(get_diffex).reset_index('acronym')"
   ]
  },
  {
   "cell_type": "code",
   "execution_count": 9,
   "metadata": {
    "collapsed": false
   },
   "outputs": [
    {
     "data": {
      "text/html": [
       "<div>\n",
       "<table border=\"1\" class=\"dataframe\">\n",
       "  <thead>\n",
       "    <tr style=\"text-align: right;\">\n",
       "      <th></th>\n",
       "      <th>acronym</th>\n",
       "      <th>entrez_gene_id</th>\n",
       "      <th>patients</th>\n",
       "      <th>mean_diff</th>\n",
       "      <th>t_stat</th>\n",
       "      <th>mlog10_p_value</th>\n",
       "    </tr>\n",
       "  </thead>\n",
       "  <tbody>\n",
       "    <tr>\n",
       "      <th>1</th>\n",
       "      <td>BLCA</td>\n",
       "      <td>1</td>\n",
       "      <td>19</td>\n",
       "      <td>0.362105</td>\n",
       "      <td>1.062114</td>\n",
       "      <td>0.519667</td>\n",
       "    </tr>\n",
       "    <tr>\n",
       "      <th>2</th>\n",
       "      <td>BLCA</td>\n",
       "      <td>2</td>\n",
       "      <td>19</td>\n",
       "      <td>-2.764737</td>\n",
       "      <td>-10.230441</td>\n",
       "      <td>8.201865</td>\n",
       "    </tr>\n",
       "    <tr>\n",
       "      <th>9</th>\n",
       "      <td>BLCA</td>\n",
       "      <td>9</td>\n",
       "      <td>19</td>\n",
       "      <td>0.329474</td>\n",
       "      <td>1.196608</td>\n",
       "      <td>0.607333</td>\n",
       "    </tr>\n",
       "    <tr>\n",
       "      <th>10</th>\n",
       "      <td>BLCA</td>\n",
       "      <td>10</td>\n",
       "      <td>19</td>\n",
       "      <td>0.416158</td>\n",
       "      <td>1.472064</td>\n",
       "      <td>0.800594</td>\n",
       "    </tr>\n",
       "    <tr>\n",
       "      <th>12</th>\n",
       "      <td>BLCA</td>\n",
       "      <td>12</td>\n",
       "      <td>19</td>\n",
       "      <td>-3.548421</td>\n",
       "      <td>-4.912332</td>\n",
       "      <td>3.949696</td>\n",
       "    </tr>\n",
       "  </tbody>\n",
       "</table>\n",
       "</div>"
      ],
      "text/plain": [
       "   acronym entrez_gene_id  patients  mean_diff     t_stat  mlog10_p_value\n",
       "1     BLCA              1        19   0.362105   1.062114        0.519667\n",
       "2     BLCA              2        19  -2.764737 -10.230441        8.201865\n",
       "9     BLCA              9        19   0.329474   1.196608        0.607333\n",
       "10    BLCA             10        19   0.416158   1.472064        0.800594\n",
       "12    BLCA             12        19  -3.548421  -4.912332        3.949696"
      ]
     },
     "execution_count": 9,
     "metadata": {},
     "output_type": "execute_result"
    }
   ],
   "source": [
    "diffex_df.head()"
   ]
  },
  {
   "cell_type": "code",
   "execution_count": 15,
   "metadata": {
    "collapsed": false
   },
   "outputs": [],
   "source": [
    "path = os.path.join('data', 'complete', 'differential-expression.tsv.bz2')\n",
    "diffex_df.to_csv(path, sep='\\t', index=False, compression='bz2', float_format='%.4g')"
   ]
  },
  {
   "cell_type": "code",
   "execution_count": null,
   "metadata": {
    "collapsed": true
   },
   "outputs": [],
   "source": []
  }
 ],
 "metadata": {
  "kernelspec": {
   "display_name": "Python [default]",
   "language": "python",
   "name": "python3"
  },
  "language_info": {
   "codemirror_mode": {
    "name": "ipython",
    "version": 3
   },
   "file_extension": ".py",
   "mimetype": "text/x-python",
   "name": "python",
   "nbconvert_exporter": "python",
   "pygments_lexer": "ipython3",
   "version": "3.5.2"
  }
 },
 "nbformat": 4,
 "nbformat_minor": 1
}
