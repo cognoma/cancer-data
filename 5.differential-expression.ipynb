{
 "cells": [
  {
   "cell_type": "markdown",
   "metadata": {},
   "source": [
    "## Compute cancer-type-specific differential expression scores for each gene\n",
    "\n",
    "Compares tumor to normal tissue in the same patient."
   ]
  },
  {
   "cell_type": "code",
   "execution_count": 1,
   "metadata": {
    "collapsed": true
   },
   "outputs": [],
   "source": [
    "import os\n",
    "\n",
    "import pandas\n",
    "import numpy\n",
    "from scipy.stats import ttest_1samp"
   ]
  },
  {
   "cell_type": "code",
   "execution_count": 2,
   "metadata": {
    "collapsed": false
   },
   "outputs": [],
   "source": [
    "path = os.path.join('data', 'complete', 'expression-matrix.tsv.bz2')\n",
    "expr_df = pandas.read_table(path, index_col=0)"
   ]
  },
  {
   "cell_type": "code",
   "execution_count": 3,
   "metadata": {
    "collapsed": false
   },
   "outputs": [
    {
     "data": {
      "text/html": [
       "<div>\n",
       "<table border=\"1\" class=\"dataframe\">\n",
       "  <thead>\n",
       "    <tr style=\"text-align: right;\">\n",
       "      <th></th>\n",
       "      <th>sample_id</th>\n",
       "      <th>patient_id</th>\n",
       "      <th>sample_type</th>\n",
       "      <th>disease</th>\n",
       "      <th>acronym</th>\n",
       "      <th>organ_of_origin</th>\n",
       "      <th>gender</th>\n",
       "      <th>age_diagnosed</th>\n",
       "      <th>dead</th>\n",
       "      <th>days_survived</th>\n",
       "      <th>recurred</th>\n",
       "      <th>days_recurrence_free</th>\n",
       "    </tr>\n",
       "  </thead>\n",
       "  <tbody>\n",
       "    <tr>\n",
       "      <th>35</th>\n",
       "      <td>TCGA-02-0047-01</td>\n",
       "      <td>TCGA-02-0047</td>\n",
       "      <td>Primary Tumor</td>\n",
       "      <td>glioblastoma multiforme</td>\n",
       "      <td>GBM</td>\n",
       "      <td>Brain</td>\n",
       "      <td>Male</td>\n",
       "      <td>78.0</td>\n",
       "      <td>1.0</td>\n",
       "      <td>448.0</td>\n",
       "      <td>NaN</td>\n",
       "      <td>NaN</td>\n",
       "    </tr>\n",
       "    <tr>\n",
       "      <th>40</th>\n",
       "      <td>TCGA-02-0055-01</td>\n",
       "      <td>TCGA-02-0055</td>\n",
       "      <td>Primary Tumor</td>\n",
       "      <td>glioblastoma multiforme</td>\n",
       "      <td>GBM</td>\n",
       "      <td>Brain</td>\n",
       "      <td>Female</td>\n",
       "      <td>62.0</td>\n",
       "      <td>1.0</td>\n",
       "      <td>76.0</td>\n",
       "      <td>NaN</td>\n",
       "      <td>NaN</td>\n",
       "    </tr>\n",
       "  </tbody>\n",
       "</table>\n",
       "</div>"
      ],
      "text/plain": [
       "          sample_id    patient_id    sample_type                  disease  \\\n",
       "35  TCGA-02-0047-01  TCGA-02-0047  Primary Tumor  glioblastoma multiforme   \n",
       "40  TCGA-02-0055-01  TCGA-02-0055  Primary Tumor  glioblastoma multiforme   \n",
       "\n",
       "   acronym organ_of_origin  gender  age_diagnosed  dead  days_survived  \\\n",
       "35     GBM           Brain    Male           78.0   1.0          448.0   \n",
       "40     GBM           Brain  Female           62.0   1.0           76.0   \n",
       "\n",
       "    recurred  days_recurrence_free  \n",
       "35       NaN                   NaN  \n",
       "40       NaN                   NaN  "
      ]
     },
     "execution_count": 3,
     "metadata": {},
     "output_type": "execute_result"
    }
   ],
   "source": [
    "path = os.path.join('data', 'complete', 'samples.tsv')\n",
    "sample_df = (\n",
    "    pandas.read_table(path)\n",
    "    # Filter for samples with expression\n",
    "    .query(\"sample_id in @expr_df.index\")\n",
    ")\n",
    "patient_df = sample_df[['patient_id', 'acronym']].drop_duplicates()\n",
    "sample_df.head(2)"
   ]
  },
  {
   "cell_type": "code",
   "execution_count": 4,
   "metadata": {
    "collapsed": false
   },
   "outputs": [
    {
     "data": {
      "text/html": [
       "<div>\n",
       "<table border=\"1\" class=\"dataframe\">\n",
       "  <thead>\n",
       "    <tr style=\"text-align: right;\">\n",
       "      <th>sample_type</th>\n",
       "      <th>patient_id</th>\n",
       "      <th>Primary Tumor</th>\n",
       "      <th>Solid Tissue Normal</th>\n",
       "      <th>acronym</th>\n",
       "    </tr>\n",
       "  </thead>\n",
       "  <tbody>\n",
       "    <tr>\n",
       "      <th>0</th>\n",
       "      <td>TCGA-22-4593</td>\n",
       "      <td>TCGA-22-4593-01</td>\n",
       "      <td>TCGA-22-4593-11</td>\n",
       "      <td>LUSC</td>\n",
       "    </tr>\n",
       "    <tr>\n",
       "      <th>1</th>\n",
       "      <td>TCGA-22-4609</td>\n",
       "      <td>TCGA-22-4609-01</td>\n",
       "      <td>TCGA-22-4609-11</td>\n",
       "      <td>LUSC</td>\n",
       "    </tr>\n",
       "  </tbody>\n",
       "</table>\n",
       "</div>"
      ],
      "text/plain": [
       "sample_type    patient_id    Primary Tumor Solid Tissue Normal acronym\n",
       "0            TCGA-22-4593  TCGA-22-4593-01     TCGA-22-4593-11    LUSC\n",
       "1            TCGA-22-4609  TCGA-22-4609-01     TCGA-22-4609-11    LUSC"
      ]
     },
     "execution_count": 4,
     "metadata": {},
     "output_type": "execute_result"
    }
   ],
   "source": [
    "type_df = sample_df.pivot('patient_id', 'sample_type', values='sample_id')\n",
    "type_df = type_df[['Primary Tumor', 'Solid Tissue Normal']]\n",
    "# Filter for paired samples\n",
    "type_df = type_df[type_df.isnull().sum(axis='columns') == 0]\n",
    "type_df = type_df.reset_index().merge(patient_df)\n",
    "type_df.head(2)"
   ]
  },
  {
   "cell_type": "code",
   "execution_count": 5,
   "metadata": {
    "collapsed": false
   },
   "outputs": [],
   "source": [
    "def get_diffex(subtype_df, expr_df):\n",
    "    \"\"\"\n",
    "    For each gene, compute differential expression between paired tumor and normal tissue.\n",
    "    \"\"\"\n",
    "    tumor_df = expr_df.loc[list(subtype_df['Primary Tumor']), :]\n",
    "    normal_df = expr_df.loc[list(subtype_df['Solid Tissue Normal']), :]\n",
    "    for df in tumor_df, normal_df:\n",
    "        df.index = subtype_df.index\n",
    "    \n",
    "    diffex_df = tumor_df - normal_df\n",
    "    ttest = ttest_1samp(diffex_df, popmean=0, axis=0)\n",
    "\n",
    "    df = pandas.DataFrame.from_items([\n",
    "        ('entrez_gene_id', diffex_df.columns),\n",
    "        ('patients', len(diffex_df)),\n",
    "        ('tumor_mean', tumor_df.mean()),\n",
    "        ('normal_mean', normal_df.mean()),\n",
    "        ('mean_diff', diffex_df.mean()),\n",
    "        ('t_stat', ttest.statistic),\n",
    "        ('mlog10_p_value', -numpy.log10(ttest.pvalue)),\n",
    "    ])\n",
    "    return df"
   ]
  },
  {
   "cell_type": "code",
   "execution_count": 6,
   "metadata": {
    "collapsed": true
   },
   "outputs": [],
   "source": [
    "diffex_df = (type_df\n",
    "    .groupby('acronym')\n",
    "    .apply(get_diffex, expr_df=expr_df)\n",
    "    .reset_index('acronym')\n",
    "    .query(\"patients >= 5\")\n",
    ")\n",
    "\n",
    "diffex_df.entrez_gene_id = diffex_df.entrez_gene_id.astype(int)"
   ]
  },
  {
   "cell_type": "code",
   "execution_count": 7,
   "metadata": {
    "collapsed": false
   },
   "outputs": [
    {
     "data": {
      "text/plain": [
       "20468"
      ]
     },
     "execution_count": 7,
     "metadata": {},
     "output_type": "execute_result"
    }
   ],
   "source": [
    "# Add gene symbols\n",
    "path = os.path.join('data', 'expression-genes.tsv')\n",
    "gene_df = pandas.read_table(path, low_memory=False)\n",
    "gene_df = gene_df[['entrez_gene_id', 'symbol']]\n",
    "len(gene_df)"
   ]
  },
  {
   "cell_type": "code",
   "execution_count": 8,
   "metadata": {
    "collapsed": false
   },
   "outputs": [
    {
     "data": {
      "text/html": [
       "<div>\n",
       "<table border=\"1\" class=\"dataframe\">\n",
       "  <thead>\n",
       "    <tr style=\"text-align: right;\">\n",
       "      <th></th>\n",
       "      <th>acronym</th>\n",
       "      <th>entrez_gene_id</th>\n",
       "      <th>patients</th>\n",
       "      <th>tumor_mean</th>\n",
       "      <th>normal_mean</th>\n",
       "      <th>mean_diff</th>\n",
       "      <th>t_stat</th>\n",
       "      <th>mlog10_p_value</th>\n",
       "      <th>symbol</th>\n",
       "    </tr>\n",
       "  </thead>\n",
       "  <tbody>\n",
       "    <tr>\n",
       "      <th>347951</th>\n",
       "      <td>UCEC</td>\n",
       "      <td>100507436</td>\n",
       "      <td>7</td>\n",
       "      <td>8.141429</td>\n",
       "      <td>9.184286</td>\n",
       "      <td>-1.042857</td>\n",
       "      <td>-2.978566</td>\n",
       "      <td>1.607613</td>\n",
       "      <td>MICA</td>\n",
       "    </tr>\n",
       "    <tr>\n",
       "      <th>347952</th>\n",
       "      <td>UCEC</td>\n",
       "      <td>100652748</td>\n",
       "      <td>7</td>\n",
       "      <td>10.587143</td>\n",
       "      <td>9.198571</td>\n",
       "      <td>1.388571</td>\n",
       "      <td>4.362533</td>\n",
       "      <td>2.322631</td>\n",
       "      <td>TIMM23B</td>\n",
       "    </tr>\n",
       "    <tr>\n",
       "      <th>347953</th>\n",
       "      <td>UCEC</td>\n",
       "      <td>101060321</td>\n",
       "      <td>7</td>\n",
       "      <td>5.015714</td>\n",
       "      <td>1.569286</td>\n",
       "      <td>3.446429</td>\n",
       "      <td>2.192936</td>\n",
       "      <td>1.150042</td>\n",
       "      <td>TBC1D3G</td>\n",
       "    </tr>\n",
       "    <tr>\n",
       "      <th>347954</th>\n",
       "      <td>UCEC</td>\n",
       "      <td>102723547</td>\n",
       "      <td>7</td>\n",
       "      <td>0.840143</td>\n",
       "      <td>0.237143</td>\n",
       "      <td>0.603000</td>\n",
       "      <td>2.251617</td>\n",
       "      <td>1.185114</td>\n",
       "      <td>CSAG2</td>\n",
       "    </tr>\n",
       "    <tr>\n",
       "      <th>347955</th>\n",
       "      <td>UCEC</td>\n",
       "      <td>102724631</td>\n",
       "      <td>7</td>\n",
       "      <td>0.000000</td>\n",
       "      <td>0.000000</td>\n",
       "      <td>0.000000</td>\n",
       "      <td>NaN</td>\n",
       "      <td>NaN</td>\n",
       "      <td>POTEB3</td>\n",
       "    </tr>\n",
       "  </tbody>\n",
       "</table>\n",
       "</div>"
      ],
      "text/plain": [
       "       acronym  entrez_gene_id  patients  tumor_mean  normal_mean  mean_diff  \\\n",
       "347951    UCEC       100507436         7    8.141429     9.184286  -1.042857   \n",
       "347952    UCEC       100652748         7   10.587143     9.198571   1.388571   \n",
       "347953    UCEC       101060321         7    5.015714     1.569286   3.446429   \n",
       "347954    UCEC       102723547         7    0.840143     0.237143   0.603000   \n",
       "347955    UCEC       102724631         7    0.000000     0.000000   0.000000   \n",
       "\n",
       "          t_stat  mlog10_p_value   symbol  \n",
       "347951 -2.978566        1.607613     MICA  \n",
       "347952  4.362533        2.322631  TIMM23B  \n",
       "347953  2.192936        1.150042  TBC1D3G  \n",
       "347954  2.251617        1.185114    CSAG2  \n",
       "347955       NaN             NaN   POTEB3  "
      ]
     },
     "execution_count": 8,
     "metadata": {},
     "output_type": "execute_result"
    }
   ],
   "source": [
    "diffex_df = diffex_df.merge(gene_df, how='left')\n",
    "diffex_df.tail()"
   ]
  },
  {
   "cell_type": "code",
   "execution_count": 9,
   "metadata": {
    "collapsed": false
   },
   "outputs": [],
   "source": [
    "path = os.path.join('data', 'complete', 'differential-expression.tsv.bz2')\n",
    "diffex_df.to_csv(path, sep='\\t', index=False, compression='bz2', float_format='%.4g')"
   ]
  },
  {
   "cell_type": "code",
   "execution_count": 10,
   "metadata": {
    "collapsed": false
   },
   "outputs": [
    {
     "data": {
      "text/html": [
       "<div>\n",
       "<table border=\"1\" class=\"dataframe\">\n",
       "  <thead>\n",
       "    <tr style=\"text-align: right;\">\n",
       "      <th></th>\n",
       "      <th>acronym</th>\n",
       "      <th>patients</th>\n",
       "      <th>disease</th>\n",
       "    </tr>\n",
       "  </thead>\n",
       "  <tbody>\n",
       "    <tr>\n",
       "      <th>0</th>\n",
       "      <td>BRCA</td>\n",
       "      <td>114</td>\n",
       "      <td>breast invasive carcinoma</td>\n",
       "    </tr>\n",
       "    <tr>\n",
       "      <th>1</th>\n",
       "      <td>KIRC</td>\n",
       "      <td>72</td>\n",
       "      <td>kidney clear cell carcinoma</td>\n",
       "    </tr>\n",
       "    <tr>\n",
       "      <th>2</th>\n",
       "      <td>THCA</td>\n",
       "      <td>59</td>\n",
       "      <td>thyroid carcinoma</td>\n",
       "    </tr>\n",
       "    <tr>\n",
       "      <th>3</th>\n",
       "      <td>LUAD</td>\n",
       "      <td>58</td>\n",
       "      <td>lung adenocarcinoma</td>\n",
       "    </tr>\n",
       "    <tr>\n",
       "      <th>4</th>\n",
       "      <td>PRAD</td>\n",
       "      <td>52</td>\n",
       "      <td>prostate adenocarcinoma</td>\n",
       "    </tr>\n",
       "    <tr>\n",
       "      <th>5</th>\n",
       "      <td>LUSC</td>\n",
       "      <td>51</td>\n",
       "      <td>lung squamous cell carcinoma</td>\n",
       "    </tr>\n",
       "    <tr>\n",
       "      <th>6</th>\n",
       "      <td>LIHC</td>\n",
       "      <td>50</td>\n",
       "      <td>liver hepatocellular carcinoma</td>\n",
       "    </tr>\n",
       "    <tr>\n",
       "      <th>7</th>\n",
       "      <td>HNSC</td>\n",
       "      <td>43</td>\n",
       "      <td>head &amp; neck squamous cell carcinoma</td>\n",
       "    </tr>\n",
       "    <tr>\n",
       "      <th>8</th>\n",
       "      <td>KIRP</td>\n",
       "      <td>32</td>\n",
       "      <td>kidney papillary cell carcinoma</td>\n",
       "    </tr>\n",
       "    <tr>\n",
       "      <th>9</th>\n",
       "      <td>STAD</td>\n",
       "      <td>32</td>\n",
       "      <td>stomach adenocarcinoma</td>\n",
       "    </tr>\n",
       "    <tr>\n",
       "      <th>10</th>\n",
       "      <td>COAD</td>\n",
       "      <td>26</td>\n",
       "      <td>colon adenocarcinoma</td>\n",
       "    </tr>\n",
       "    <tr>\n",
       "      <th>11</th>\n",
       "      <td>KICH</td>\n",
       "      <td>25</td>\n",
       "      <td>kidney chromophobe</td>\n",
       "    </tr>\n",
       "    <tr>\n",
       "      <th>12</th>\n",
       "      <td>BLCA</td>\n",
       "      <td>19</td>\n",
       "      <td>bladder urothelial carcinoma</td>\n",
       "    </tr>\n",
       "    <tr>\n",
       "      <th>13</th>\n",
       "      <td>ESCA</td>\n",
       "      <td>11</td>\n",
       "      <td>esophageal carcinoma</td>\n",
       "    </tr>\n",
       "    <tr>\n",
       "      <th>14</th>\n",
       "      <td>CHOL</td>\n",
       "      <td>9</td>\n",
       "      <td>cholangiocarcinoma</td>\n",
       "    </tr>\n",
       "    <tr>\n",
       "      <th>15</th>\n",
       "      <td>UCEC</td>\n",
       "      <td>7</td>\n",
       "      <td>uterine corpus endometrioid carcinoma</td>\n",
       "    </tr>\n",
       "    <tr>\n",
       "      <th>16</th>\n",
       "      <td>READ</td>\n",
       "      <td>6</td>\n",
       "      <td>rectum adenocarcinoma</td>\n",
       "    </tr>\n",
       "    <tr>\n",
       "      <th>17</th>\n",
       "      <td>PAAD</td>\n",
       "      <td>4</td>\n",
       "      <td>pancreatic adenocarcinoma</td>\n",
       "    </tr>\n",
       "    <tr>\n",
       "      <th>18</th>\n",
       "      <td>CESC</td>\n",
       "      <td>3</td>\n",
       "      <td>cervical &amp; endocervical cancer</td>\n",
       "    </tr>\n",
       "    <tr>\n",
       "      <th>19</th>\n",
       "      <td>PCPG</td>\n",
       "      <td>3</td>\n",
       "      <td>pheochromocytoma &amp; paraganglioma</td>\n",
       "    </tr>\n",
       "    <tr>\n",
       "      <th>20</th>\n",
       "      <td>THYM</td>\n",
       "      <td>2</td>\n",
       "      <td>thymoma</td>\n",
       "    </tr>\n",
       "    <tr>\n",
       "      <th>21</th>\n",
       "      <td>SARC</td>\n",
       "      <td>2</td>\n",
       "      <td>sarcoma</td>\n",
       "    </tr>\n",
       "  </tbody>\n",
       "</table>\n",
       "</div>"
      ],
      "text/plain": [
       "   acronym  patients                                disease\n",
       "0     BRCA       114              breast invasive carcinoma\n",
       "1     KIRC        72            kidney clear cell carcinoma\n",
       "2     THCA        59                      thyroid carcinoma\n",
       "3     LUAD        58                    lung adenocarcinoma\n",
       "4     PRAD        52                prostate adenocarcinoma\n",
       "5     LUSC        51           lung squamous cell carcinoma\n",
       "6     LIHC        50         liver hepatocellular carcinoma\n",
       "7     HNSC        43    head & neck squamous cell carcinoma\n",
       "8     KIRP        32        kidney papillary cell carcinoma\n",
       "9     STAD        32                 stomach adenocarcinoma\n",
       "10    COAD        26                   colon adenocarcinoma\n",
       "11    KICH        25                     kidney chromophobe\n",
       "12    BLCA        19           bladder urothelial carcinoma\n",
       "13    ESCA        11                   esophageal carcinoma\n",
       "14    CHOL         9                     cholangiocarcinoma\n",
       "15    UCEC         7  uterine corpus endometrioid carcinoma\n",
       "16    READ         6                  rectum adenocarcinoma\n",
       "17    PAAD         4              pancreatic adenocarcinoma\n",
       "18    CESC         3         cervical & endocervical cancer\n",
       "19    PCPG         3       pheochromocytoma & paraganglioma\n",
       "20    THYM         2                                thymoma\n",
       "21    SARC         2                                sarcoma"
      ]
     },
     "execution_count": 10,
     "metadata": {},
     "output_type": "execute_result"
    }
   ],
   "source": [
    "# Patients with paired samples per disease\n",
    "path = os.path.join('download', 'diseases.tsv')\n",
    "acronym_df = pandas.read_table(path)\n",
    "\n",
    "(type_df.acronym\n",
    "    .value_counts().rename('patients')\n",
    "    .reset_index().rename(columns={'index': 'acronym'})\n",
    "    .merge(acronym_df)\n",
    "    .sort_values('patients', ascending=False)\n",
    ")"
   ]
  },
  {
   "cell_type": "markdown",
   "metadata": {},
   "source": [
    "# Reduce expression dimensionality with NMF"
   ]
  },
  {
   "cell_type": "code",
   "execution_count": 11,
   "metadata": {
    "collapsed": true
   },
   "outputs": [],
   "source": [
    "from sklearn.decomposition import NMF\n",
    "import matplotlib.pyplot as plt\n",
    "import seaborn\n",
    "\n",
    "%matplotlib inline"
   ]
  },
  {
   "cell_type": "code",
   "execution_count": 12,
   "metadata": {
    "collapsed": false
   },
   "outputs": [
    {
     "data": {
      "text/html": [
       "<div>\n",
       "<table border=\"1\" class=\"dataframe\">\n",
       "  <thead>\n",
       "    <tr style=\"text-align: right;\">\n",
       "      <th></th>\n",
       "      <th>0</th>\n",
       "      <th>1</th>\n",
       "      <th>2</th>\n",
       "      <th>3</th>\n",
       "      <th>4</th>\n",
       "    </tr>\n",
       "    <tr>\n",
       "      <th>sample_id</th>\n",
       "      <th></th>\n",
       "      <th></th>\n",
       "      <th></th>\n",
       "      <th></th>\n",
       "      <th></th>\n",
       "    </tr>\n",
       "  </thead>\n",
       "  <tbody>\n",
       "    <tr>\n",
       "      <th>TCGA-02-0047-01</th>\n",
       "      <td>1.966827</td>\n",
       "      <td>0.977209</td>\n",
       "      <td>0.000000</td>\n",
       "      <td>0.000000</td>\n",
       "      <td>0.015947</td>\n",
       "    </tr>\n",
       "    <tr>\n",
       "      <th>TCGA-02-0055-01</th>\n",
       "      <td>1.990994</td>\n",
       "      <td>0.006328</td>\n",
       "      <td>0.018105</td>\n",
       "      <td>0.004237</td>\n",
       "      <td>0.019024</td>\n",
       "    </tr>\n",
       "    <tr>\n",
       "      <th>TCGA-02-2483-01</th>\n",
       "      <td>1.879199</td>\n",
       "      <td>1.546118</td>\n",
       "      <td>0.000000</td>\n",
       "      <td>0.000000</td>\n",
       "      <td>0.000000</td>\n",
       "    </tr>\n",
       "    <tr>\n",
       "      <th>TCGA-02-2485-01</th>\n",
       "      <td>1.985402</td>\n",
       "      <td>0.380807</td>\n",
       "      <td>0.000000</td>\n",
       "      <td>0.000000</td>\n",
       "      <td>0.000000</td>\n",
       "    </tr>\n",
       "    <tr>\n",
       "      <th>TCGA-02-2486-01</th>\n",
       "      <td>2.075301</td>\n",
       "      <td>0.000000</td>\n",
       "      <td>0.000000</td>\n",
       "      <td>0.018277</td>\n",
       "      <td>0.021438</td>\n",
       "    </tr>\n",
       "  </tbody>\n",
       "</table>\n",
       "</div>"
      ],
      "text/plain": [
       "                        0         1         2         3         4\n",
       "sample_id                                                        \n",
       "TCGA-02-0047-01  1.966827  0.977209  0.000000  0.000000  0.015947\n",
       "TCGA-02-0055-01  1.990994  0.006328  0.018105  0.004237  0.019024\n",
       "TCGA-02-2483-01  1.879199  1.546118  0.000000  0.000000  0.000000\n",
       "TCGA-02-2485-01  1.985402  0.380807  0.000000  0.000000  0.000000\n",
       "TCGA-02-2486-01  2.075301  0.000000  0.000000  0.018277  0.021438"
      ]
     },
     "execution_count": 12,
     "metadata": {},
     "output_type": "execute_result"
    }
   ],
   "source": [
    "nmf = NMF(n_components=100, random_state=0)\n",
    "expr_nmf_df = nmf.fit_transform(expr_df)\n",
    "expr_nmf_df = pandas.DataFrame(expr_nmf_df, index=expr_df.index)\n",
    "expr_nmf_df.iloc[:5, :5]"
   ]
  },
  {
   "cell_type": "code",
   "execution_count": 13,
   "metadata": {
    "collapsed": false
   },
   "outputs": [
    {
     "data": {
      "text/html": [
       "<div>\n",
       "<table border=\"1\" class=\"dataframe\">\n",
       "  <thead>\n",
       "    <tr style=\"text-align: right;\">\n",
       "      <th></th>\n",
       "      <th>acronym</th>\n",
       "      <th>component</th>\n",
       "      <th>patients</th>\n",
       "      <th>tumor_mean</th>\n",
       "      <th>normal_mean</th>\n",
       "      <th>mean_diff</th>\n",
       "      <th>t_stat</th>\n",
       "      <th>mlog10_p_value</th>\n",
       "    </tr>\n",
       "  </thead>\n",
       "  <tbody>\n",
       "    <tr>\n",
       "      <th>0</th>\n",
       "      <td>BLCA</td>\n",
       "      <td>0</td>\n",
       "      <td>19</td>\n",
       "      <td>2.124774</td>\n",
       "      <td>2.163064</td>\n",
       "      <td>-0.038290</td>\n",
       "      <td>-2.087921</td>\n",
       "      <td>1.289979</td>\n",
       "    </tr>\n",
       "    <tr>\n",
       "      <th>1</th>\n",
       "      <td>BLCA</td>\n",
       "      <td>1</td>\n",
       "      <td>19</td>\n",
       "      <td>0.021220</td>\n",
       "      <td>0.004735</td>\n",
       "      <td>0.016485</td>\n",
       "      <td>0.813664</td>\n",
       "      <td>0.370111</td>\n",
       "    </tr>\n",
       "  </tbody>\n",
       "</table>\n",
       "</div>"
      ],
      "text/plain": [
       "  acronym  component  patients  tumor_mean  normal_mean  mean_diff    t_stat  \\\n",
       "0    BLCA          0        19    2.124774     2.163064  -0.038290 -2.087921   \n",
       "1    BLCA          1        19    0.021220     0.004735   0.016485  0.813664   \n",
       "\n",
       "   mlog10_p_value  \n",
       "0        1.289979  \n",
       "1        0.370111  "
      ]
     },
     "execution_count": 13,
     "metadata": {},
     "output_type": "execute_result"
    }
   ],
   "source": [
    "diffex_nmf_df = (type_df\n",
    "    .groupby('acronym')\n",
    "    .apply(get_diffex, expr_df=expr_nmf_df)\n",
    "    .reset_index('acronym')\n",
    "    .rename(columns={'entrez_gene_id': 'component'})\n",
    "    .query(\"patients >= 5\")\n",
    ")\n",
    "diffex_nmf_df.head(2)"
   ]
  },
  {
   "cell_type": "code",
   "execution_count": 14,
   "metadata": {
    "collapsed": false
   },
   "outputs": [
    {
     "data": {
      "image/png": "[encoded data removed]",
      "text/plain": [
       "<matplotlib.figure.Figure at 0x7fe5543344a8>"
      ]
     },
     "metadata": {},
     "output_type": "display_data"
    }
   ],
   "source": [
    "# Acronyms at https://github.com/cognoma/cancer-data/blob/master/download/diseases.tsv\n",
    "plot_df = diffex_nmf_df.pivot(index='acronym', columns='component', values='t_stat').fillna(0)\n",
    "grid = seaborn.clustermap(plot_df, metric='correlation', figsize=(9, 6))\n",
    "grid.ax_heatmap.tick_params(labelbottom='off')\n",
    "_ = plt.setp(grid.ax_heatmap.yaxis.get_majorticklabels(), rotation=0)"
   ]
  }
 ],
 "metadata": {
  "anaconda-cloud": {},
  "kernelspec": {
   "display_name": "Python [default]",
   "language": "python",
   "name": "python3"
  },
  "language_info": {
   "codemirror_mode": {
    "name": "ipython",
    "version": 3
   },
   "file_extension": ".py",
   "mimetype": "text/x-python",
   "name": "python",
   "nbconvert_exporter": "python",
   "pygments_lexer": "ipython3",
   "version": "3.5.2"
  }
 },
 "nbformat": 4,
 "nbformat_minor": 1
}
