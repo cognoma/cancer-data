{
 "cells": [
  {
   "cell_type": "markdown",
   "metadata": {},
   "source": [
    "## Compute cancer-type-specific differential expression scores for each gene\n",
    "\n",
    "Compares tumor to normal tissue in the same patient."
   ]
  },
  {
   "cell_type": "code",
   "execution_count": 1,
   "metadata": {
    "collapsed": true
   },
   "outputs": [],
   "source": [
    "import os\n",
    "\n",
    "import pandas\n",
    "import numpy\n",
    "from scipy.stats import ttest_1samp"
   ]
  },
  {
   "cell_type": "code",
   "execution_count": 2,
   "metadata": {
    "collapsed": false
   },
   "outputs": [],
   "source": [
    "path = os.path.join('data', 'complete', 'expression-matrix.tsv.bz2')\n",
    "expr_df = pandas.read_table(path, index_col=0)"
   ]
  },
  {
   "cell_type": "code",
   "execution_count": 3,
   "metadata": {
    "collapsed": false
   },
   "outputs": [
    {
     "data": {
      "text/html": [
       "<div>\n",
       "<table border=\"1\" class=\"dataframe\">\n",
       "  <thead>\n",
       "    <tr style=\"text-align: right;\">\n",
       "      <th></th>\n",
       "      <th>sample_id</th>\n",
       "      <th>patient_id</th>\n",
       "      <th>sample_type</th>\n",
       "      <th>disease</th>\n",
       "      <th>acronym</th>\n",
       "      <th>organ_of_origin</th>\n",
       "      <th>gender</th>\n",
       "      <th>age_diagnosed</th>\n",
       "      <th>dead</th>\n",
       "      <th>days_survived</th>\n",
       "      <th>recurred</th>\n",
       "      <th>days_recurrence_free</th>\n",
       "    </tr>\n",
       "  </thead>\n",
       "  <tbody>\n",
       "    <tr>\n",
       "      <th>35</th>\n",
       "      <td>TCGA-02-0047-01</td>\n",
       "      <td>TCGA-02-0047</td>\n",
       "      <td>Primary Tumor</td>\n",
       "      <td>glioblastoma multiforme</td>\n",
       "      <td>GBM</td>\n",
       "      <td>Brain</td>\n",
       "      <td>Male</td>\n",
       "      <td>78.0</td>\n",
       "      <td>1.0</td>\n",
       "      <td>448.0</td>\n",
       "      <td>NaN</td>\n",
       "      <td>NaN</td>\n",
       "    </tr>\n",
       "    <tr>\n",
       "      <th>40</th>\n",
       "      <td>TCGA-02-0055-01</td>\n",
       "      <td>TCGA-02-0055</td>\n",
       "      <td>Primary Tumor</td>\n",
       "      <td>glioblastoma multiforme</td>\n",
       "      <td>GBM</td>\n",
       "      <td>Brain</td>\n",
       "      <td>Female</td>\n",
       "      <td>62.0</td>\n",
       "      <td>1.0</td>\n",
       "      <td>76.0</td>\n",
       "      <td>NaN</td>\n",
       "      <td>NaN</td>\n",
       "    </tr>\n",
       "  </tbody>\n",
       "</table>\n",
       "</div>"
      ],
      "text/plain": [
       "          sample_id    patient_id    sample_type                  disease  \\\n",
       "35  TCGA-02-0047-01  TCGA-02-0047  Primary Tumor  glioblastoma multiforme   \n",
       "40  TCGA-02-0055-01  TCGA-02-0055  Primary Tumor  glioblastoma multiforme   \n",
       "\n",
       "   acronym organ_of_origin  gender  age_diagnosed  dead  days_survived  \\\n",
       "35     GBM           Brain    Male           78.0   1.0          448.0   \n",
       "40     GBM           Brain  Female           62.0   1.0           76.0   \n",
       "\n",
       "    recurred  days_recurrence_free  \n",
       "35       NaN                   NaN  \n",
       "40       NaN                   NaN  "
      ]
     },
     "execution_count": 3,
     "metadata": {},
     "output_type": "execute_result"
    }
   ],
   "source": [
    "path = os.path.join('data', 'complete', 'samples.tsv')\n",
    "sample_df = (\n",
    "    pandas.read_table(path)\n",
    "    # Filter for samples with expression\n",
    "    .query(\"sample_id in @expr_df.index\")\n",
    ")\n",
    "patient_df = sample_df[['patient_id', 'acronym']].drop_duplicates()\n",
    "sample_df.head(2)"
   ]
  },
  {
   "cell_type": "code",
   "execution_count": 4,
   "metadata": {
    "collapsed": false
   },
   "outputs": [
    {
     "data": {
      "text/html": [
       "<div>\n",
       "<table border=\"1\" class=\"dataframe\">\n",
       "  <thead>\n",
       "    <tr style=\"text-align: right;\">\n",
       "      <th>sample_type</th>\n",
       "      <th>patient_id</th>\n",
       "      <th>Primary Tumor</th>\n",
       "      <th>Solid Tissue Normal</th>\n",
       "      <th>acronym</th>\n",
       "    </tr>\n",
       "  </thead>\n",
       "  <tbody>\n",
       "    <tr>\n",
       "      <th>0</th>\n",
       "      <td>TCGA-22-4593</td>\n",
       "      <td>TCGA-22-4593-01</td>\n",
       "      <td>TCGA-22-4593-11</td>\n",
       "      <td>LUSC</td>\n",
       "    </tr>\n",
       "    <tr>\n",
       "      <th>1</th>\n",
       "      <td>TCGA-22-4609</td>\n",
       "      <td>TCGA-22-4609-01</td>\n",
       "      <td>TCGA-22-4609-11</td>\n",
       "      <td>LUSC</td>\n",
       "    </tr>\n",
       "  </tbody>\n",
       "</table>\n",
       "</div>"
      ],
      "text/plain": [
       "sample_type    patient_id    Primary Tumor Solid Tissue Normal acronym\n",
       "0            TCGA-22-4593  TCGA-22-4593-01     TCGA-22-4593-11    LUSC\n",
       "1            TCGA-22-4609  TCGA-22-4609-01     TCGA-22-4609-11    LUSC"
      ]
     },
     "execution_count": 4,
     "metadata": {},
     "output_type": "execute_result"
    }
   ],
   "source": [
    "type_df = sample_df.pivot('patient_id', 'sample_type', values='sample_id')\n",
    "type_df = type_df[['Primary Tumor', 'Solid Tissue Normal']]\n",
    "# Filter for paired samples\n",
    "type_df = type_df[type_df.isnull().sum(axis='columns') == 0]\n",
    "type_df = type_df.reset_index().merge(patient_df)\n",
    "type_df.head(2)"
   ]
  },
  {
   "cell_type": "code",
   "execution_count": 5,
   "metadata": {
    "collapsed": false
   },
   "outputs": [],
   "source": [
    "def get_diffex(subtype_df):\n",
    "    \"\"\"\n",
    "    For each gene, compute differential expression between paired tumor and normal tissue.\n",
    "    \"\"\"\n",
    "    tumor_df = expr_df.loc[list(subtype_df['Primary Tumor']), :]\n",
    "    normal_df = expr_df.loc[list(subtype_df['Solid Tissue Normal']), :]\n",
    "    for df in tumor_df, normal_df:\n",
    "        df.index = subtype_df.index\n",
    "    \n",
    "    diffex_df = tumor_df - normal_df\n",
    "    ttest = ttest_1samp(diffex_df, popmean=0, axis=0)\n",
    "\n",
    "    df = pandas.DataFrame.from_items([\n",
    "        ('entrez_gene_id', diffex_df.columns),\n",
    "        ('patients', len(diffex_df)),\n",
    "        ('tumor_mean', tumor_df.mean()),\n",
    "        ('normal_mean', normal_df.mean()),\n",
    "        ('mean_diff', diffex_df.mean()),\n",
    "        ('t_stat', ttest.statistic),\n",
    "        ('mlog10_p_value', -numpy.log10(ttest.pvalue)),\n",
    "    ])\n",
    "    return df\n",
    "\n",
    "diffex_df = (type_df\n",
    "    .groupby('acronym')\n",
    "    .apply(get_diffex)\n",
    "    .reset_index('acronym')\n",
    "    .query(\"patients >= 5\")\n",
    ")\n",
    "\n",
    "diffex_df.entrez_gene_id = diffex_df.entrez_gene_id.astype(int)"
   ]
  },
  {
   "cell_type": "code",
   "execution_count": 6,
   "metadata": {
    "collapsed": false
   },
   "outputs": [
    {
     "data": {
      "text/plain": [
       "20468"
      ]
     },
     "execution_count": 6,
     "metadata": {},
     "output_type": "execute_result"
    }
   ],
   "source": [
    "# Add gene symbols\n",
    "path = os.path.join('data', 'expression-genes.tsv')\n",
    "gene_df = pandas.read_table(path, low_memory=False)\n",
    "gene_df = gene_df[['entrez_gene_id', 'symbol']]\n",
    "len(gene_df)"
   ]
  },
  {
   "cell_type": "code",
   "execution_count": 7,
   "metadata": {
    "collapsed": false
   },
   "outputs": [
    {
     "data": {
      "text/html": [
       "<div>\n",
       "<table border=\"1\" class=\"dataframe\">\n",
       "  <thead>\n",
       "    <tr style=\"text-align: right;\">\n",
       "      <th></th>\n",
       "      <th>acronym</th>\n",
       "      <th>entrez_gene_id</th>\n",
       "      <th>patients</th>\n",
       "      <th>tumor_mean</th>\n",
       "      <th>normal_mean</th>\n",
       "      <th>mean_diff</th>\n",
       "      <th>t_stat</th>\n",
       "      <th>mlog10_p_value</th>\n",
       "      <th>symbol</th>\n",
       "    </tr>\n",
       "  </thead>\n",
       "  <tbody>\n",
       "    <tr>\n",
       "      <th>347951</th>\n",
       "      <td>UCEC</td>\n",
       "      <td>100507436</td>\n",
       "      <td>7</td>\n",
       "      <td>8.141429</td>\n",
       "      <td>9.184286</td>\n",
       "      <td>-1.042857</td>\n",
       "      <td>-2.978566</td>\n",
       "      <td>1.607613</td>\n",
       "      <td>MICA</td>\n",
       "    </tr>\n",
       "    <tr>\n",
       "      <th>347952</th>\n",
       "      <td>UCEC</td>\n",
       "      <td>100652748</td>\n",
       "      <td>7</td>\n",
       "      <td>10.587143</td>\n",
       "      <td>9.198571</td>\n",
       "      <td>1.388571</td>\n",
       "      <td>4.362533</td>\n",
       "      <td>2.322631</td>\n",
       "      <td>TIMM23B</td>\n",
       "    </tr>\n",
       "    <tr>\n",
       "      <th>347953</th>\n",
       "      <td>UCEC</td>\n",
       "      <td>101060321</td>\n",
       "      <td>7</td>\n",
       "      <td>5.015714</td>\n",
       "      <td>1.569286</td>\n",
       "      <td>3.446429</td>\n",
       "      <td>2.192936</td>\n",
       "      <td>1.150042</td>\n",
       "      <td>TBC1D3G</td>\n",
       "    </tr>\n",
       "    <tr>\n",
       "      <th>347954</th>\n",
       "      <td>UCEC</td>\n",
       "      <td>102723547</td>\n",
       "      <td>7</td>\n",
       "      <td>0.840143</td>\n",
       "      <td>0.237143</td>\n",
       "      <td>0.603000</td>\n",
       "      <td>2.251617</td>\n",
       "      <td>1.185114</td>\n",
       "      <td>CSAG2</td>\n",
       "    </tr>\n",
       "    <tr>\n",
       "      <th>347955</th>\n",
       "      <td>UCEC</td>\n",
       "      <td>102724631</td>\n",
       "      <td>7</td>\n",
       "      <td>0.000000</td>\n",
       "      <td>0.000000</td>\n",
       "      <td>0.000000</td>\n",
       "      <td>NaN</td>\n",
       "      <td>NaN</td>\n",
       "      <td>POTEB3</td>\n",
       "    </tr>\n",
       "  </tbody>\n",
       "</table>\n",
       "</div>"
      ],
      "text/plain": [
       "       acronym  entrez_gene_id  patients  tumor_mean  normal_mean  mean_diff  \\\n",
       "347951    UCEC       100507436         7    8.141429     9.184286  -1.042857   \n",
       "347952    UCEC       100652748         7   10.587143     9.198571   1.388571   \n",
       "347953    UCEC       101060321         7    5.015714     1.569286   3.446429   \n",
       "347954    UCEC       102723547         7    0.840143     0.237143   0.603000   \n",
       "347955    UCEC       102724631         7    0.000000     0.000000   0.000000   \n",
       "\n",
       "          t_stat  mlog10_p_value   symbol  \n",
       "347951 -2.978566        1.607613     MICA  \n",
       "347952  4.362533        2.322631  TIMM23B  \n",
       "347953  2.192936        1.150042  TBC1D3G  \n",
       "347954  2.251617        1.185114    CSAG2  \n",
       "347955       NaN             NaN   POTEB3  "
      ]
     },
     "execution_count": 7,
     "metadata": {},
     "output_type": "execute_result"
    }
   ],
   "source": [
    "diffex_df = diffex_df.merge(gene_df, how='left')\n",
    "diffex_df.tail()"
   ]
  },
  {
   "cell_type": "code",
   "execution_count": 8,
   "metadata": {
    "collapsed": false
   },
   "outputs": [],
   "source": [
    "path = os.path.join('data', 'complete', 'differential-expression.tsv.bz2')\n",
    "diffex_df.to_csv(path, sep='\\t', index=False, compression='bz2', float_format='%.4g')"
   ]
  }
 ],
 "metadata": {
  "anaconda-cloud": {},
  "kernelspec": {
   "display_name": "Python [default]",
   "language": "python",
   "name": "python3"
  },
  "language_info": {
   "codemirror_mode": {
    "name": "ipython",
    "version": 3
   },
   "file_extension": ".py",
   "mimetype": "text/x-python",
   "name": "python",
   "nbconvert_exporter": "python",
   "pygments_lexer": "ipython3",
   "version": "3.5.2"
  }
 },
 "nbformat": 4,
 "nbformat_minor": 1
}
